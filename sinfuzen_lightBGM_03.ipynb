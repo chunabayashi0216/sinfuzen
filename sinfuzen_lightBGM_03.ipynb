{
  "cells": [
    {
      "cell_type": "markdown",
      "metadata": {
        "id": "view-in-github",
        "colab_type": "text"
      },
      "source": [
        "<a href=\"https://colab.research.google.com/github/chunabayashi0216/SIGNATE_sinfuzen/blob/main/sinfuzen_lightBGM_03.ipynb\" target=\"_parent\"><img src=\"https://colab.research.google.com/assets/colab-badge.svg\" alt=\"Open In Colab\"/></a>"
      ]
    },
    {
      "cell_type": "markdown",
      "metadata": {
        "id": "Dr4m9oczxjBU"
      },
      "source": [
        "# 心不全　LightGBM (Python Scikit-learn interface)　その３"
      ]
    },
    {
      "cell_type": "markdown",
      "metadata": {
        "id": "cwBda8CMxjBY"
      },
      "source": [
        "# 交差検証(Cross Validation)"
      ]
    },
    {
      "cell_type": "markdown",
      "metadata": {
        "id": "VG87b2uWxjBZ"
      },
      "source": [
        "# パラメーター調整（グリッドサーチ）"
      ]
    },
    {
      "cell_type": "markdown",
      "metadata": {
        "id": "B_vNR4I1xjBZ"
      },
      "source": [
        "# 'platelets' 'serum_creatinine' を整数変換"
      ]
    },
    {
      "cell_type": "code",
      "execution_count": null,
      "metadata": {
        "id": "lGTk7AqJxjBa",
        "outputId": "7782a516-126a-4b48-e87e-015369001aca"
      },
      "outputs": [
        {
          "data": {
            "text/plain": [
              "\"\\nSIGNATE\\u3000提出 04/10/2021 0.844\\n              04/12/2021 0.845  StratifiedKFold, n_splits=5,\\n                                param={'learning_rate': 0.1, 'max_depth': 4, 'num_leaves': 20, 'reg_alpha': 1, 'reg_lambda': 0}\\n\""
            ]
          },
          "execution_count": 1,
          "metadata": {},
          "output_type": "execute_result"
        }
      ],
      "source": [
        "'''\n",
        "SIGNATE　提出  04/12/2021 0.850  StratifiedKFold, n_splits=5,\n",
        "                                param={'learning_rate': 0.1, 'max_depth': 4, 'num_leaves': 20, 'reg_alpha': 1, 'reg_lambda': 0}\n",
        "\n",
        "                                'platelets'　 float -> int\n",
        "                                'serum_creatinine' 1000倍してfloat -> int\n",
        "'''"
      ]
    },
    {
      "cell_type": "code",
      "execution_count": null,
      "metadata": {
        "id": "ZJKaLvgSxjBc",
        "outputId": "9ed45911-ccd5-43b0-ae70-438cae890a7e"
      },
      "outputs": [
        {
          "name": "stdout",
          "output_type": "stream",
          "text": [
            "Requirement already satisfied: japanize-matplotlib in c:\\users\\m_chunabayashi\\anaconda3\\lib\\site-packages (1.1.3)\n",
            "Requirement already satisfied: matplotlib in c:\\users\\m_chunabayashi\\anaconda3\\lib\\site-packages (from japanize-matplotlib) (3.3.3)\n",
            "Requirement already satisfied: kiwisolver>=1.0.1 in c:\\users\\m_chunabayashi\\anaconda3\\lib\\site-packages (from matplotlib->japanize-matplotlib) (1.1.0)\n",
            "Requirement already satisfied: pillow>=6.2.0 in c:\\users\\m_chunabayashi\\anaconda3\\lib\\site-packages (from matplotlib->japanize-matplotlib) (7.0.0)\n",
            "Requirement already satisfied: pyparsing!=2.0.4,!=2.1.2,!=2.1.6,>=2.0.3 in c:\\users\\m_chunabayashi\\anaconda3\\lib\\site-packages (from matplotlib->japanize-matplotlib) (2.4.6)\n",
            "Requirement already satisfied: cycler>=0.10 in c:\\users\\m_chunabayashi\\anaconda3\\lib\\site-packages (from matplotlib->japanize-matplotlib) (0.10.0)\n",
            "Requirement already satisfied: numpy>=1.15 in c:\\users\\m_chunabayashi\\anaconda3\\lib\\site-packages (from matplotlib->japanize-matplotlib) (1.18.1)\n",
            "Requirement already satisfied: python-dateutil>=2.1 in c:\\users\\m_chunabayashi\\anaconda3\\lib\\site-packages (from matplotlib->japanize-matplotlib) (2.8.1)\n",
            "Requirement already satisfied: setuptools in c:\\users\\m_chunabayashi\\anaconda3\\lib\\site-packages (from kiwisolver>=1.0.1->matplotlib->japanize-matplotlib) (45.2.0.post20200210)\n",
            "Requirement already satisfied: six in c:\\users\\m_chunabayashi\\anaconda3\\lib\\site-packages (from cycler>=0.10->matplotlib->japanize-matplotlib) (1.14.0)\n",
            "Note: you may need to restart the kernel to use updated packages.\n"
          ]
        }
      ],
      "source": [
        "%pip install japanize-matplotlib\n",
        "\n",
        "## ライブラリのインポート\n",
        "import pandas as pd # 基本ライブラリ\n",
        "import numpy as np # 基本ライブラリ\n",
        "import matplotlib.pyplot as plt # グラフ描画用\n",
        "import seaborn as sns; sns.set() # グラフ描画用\n",
        "import warnings # 実行に関係ない警告を無視\n",
        "warnings.filterwarnings('ignore')\n",
        "import lightgbm as lgb #LightGBM\n",
        "from sklearn import datasets\n",
        "from sklearn.model_selection import train_test_split # データセット分割用\n",
        "from sklearn.metrics import accuracy_score # モデル評価用(正答率)\n",
        "from sklearn.metrics import log_loss # モデル評価用(logloss)\n",
        "from sklearn.metrics import roc_auc_score # モデル評価用(auc)"
      ]
    },
    {
      "cell_type": "markdown",
      "metadata": {
        "id": "2mGnlyz7xjBc"
      },
      "source": [
        "【データの読み込み、トレーニングデータ・テストデータの分割】"
      ]
    },
    {
      "cell_type": "code",
      "execution_count": null,
      "metadata": {
        "scrolled": true,
        "id": "kFVTSjM6xjBd",
        "outputId": "42fb683f-0024-4501-bc1a-ec87774ccb58"
      },
      "outputs": [
        {
          "name": "stdout",
          "output_type": "stream",
          "text": [
            "C:\\Users\\m_chunabayashi\\SIGNATE\\心不全予測\n",
            "(1000, 14)\n",
            "(1000, 13)\n"
          ]
        }
      ],
      "source": [
        "%cd C:\\Users\\m_chunabayashi\\SIGNATE\\心不全予測\\\n",
        "\n",
        "# Load in the train and test datasets\n",
        "df_train = pd.read_csv('train.csv') #学習データ\n",
        "df_test = pd.read_csv('test.csv')   #テストデータ\n",
        "\n",
        "# データの確認\n",
        "print(df_train.shape) # 学習データサイズの確認(データ数,特徴量数)\n",
        "print(df_test.shape)  # テストデータサイズの確認(データ数,特徴量数)\n"
      ]
    },
    {
      "cell_type": "markdown",
      "metadata": {
        "id": "2f1DXCBCxjBe"
      },
      "source": [
        "特徴量　データ加工　float -> int"
      ]
    },
    {
      "cell_type": "code",
      "execution_count": null,
      "metadata": {
        "id": "SINMvU-JxjBe"
      },
      "outputs": [],
      "source": [
        "# 'serum_creatinine' float -> int\n",
        "df_train['platelets'] = df_train['platelets'].astype(int)\n",
        "df_test['platelets'] = df_test['platelets'].astype(int)\n",
        "\n",
        "# 'serum_sodium' float -> int\n",
        "df_train['serum_creatinine'] = df_train['serum_creatinine'] * 1000\n",
        "df_train['serum_creatinine'] = df_train['serum_creatinine'].astype(int)\n",
        "\n",
        "df_test['serum_creatinine'] = df_test['serum_creatinine'] * 1000\n",
        "df_test['serum_creatinine'] = df_test['serum_creatinine'].astype(int)\n",
        "\n"
      ]
    },
    {
      "cell_type": "code",
      "execution_count": null,
      "metadata": {
        "id": "tsDazRWyxjBf",
        "outputId": "1bf08c8b-309a-47de-ac20-fd8f9cf5273c"
      },
      "outputs": [
        {
          "name": "stdout",
          "output_type": "stream",
          "text": [
            "(1000, 12)\n",
            "(1000,)\n",
            "(1000, 12)\n"
          ]
        }
      ],
      "source": [
        "# 説明変数,目的変数\n",
        "X = df_train.drop(['id', 'target'],axis=1).values # 説明変数(index 'target'以外の特徴量)\n",
        "y = df_train['target'].values                        # 目的変数('target')\n",
        "\n",
        "df_test = df_test.drop(['id'],axis=1)    # 提出データ\n",
        "\n",
        "print(X.shape) # 学習データサイズの確認(データ数,特徴量数)\n",
        "print(y.shape)  # テストデータサイズの確認(データ数,特徴量数)\n",
        "print(df_test.shape)"
      ]
    },
    {
      "cell_type": "markdown",
      "metadata": {
        "id": "OZhIBe05xjBf"
      },
      "source": [
        "【心不全発症の比率】"
      ]
    },
    {
      "cell_type": "code",
      "execution_count": null,
      "metadata": {
        "scrolled": true,
        "id": "G6Tm56MlxjBf",
        "outputId": "02e2c844-d847-4bf9-f727-86a499fb06d0"
      },
      "outputs": [
        {
          "name": "stdout",
          "output_type": "stream",
          "text": [
            "Outcome = 0 の割合 : 0.802\n",
            "Outcome = 1 の割合 : 0.198\n"
          ]
        }
      ],
      "source": [
        "n_target0, n_target1 = len(df_train[df_train['target'] == 0]), len(df_train[df_train['target'] == 1])\n",
        "n_all = n_target0 + n_target1\n",
        "print('Outcome = 0 の割合 :',n_target0/n_all) # target0 健常者)の割合\n",
        "print('Outcome = 1 の割合 :',n_target1/n_all) # target1　心不全発症の割合"
      ]
    },
    {
      "cell_type": "markdown",
      "metadata": {
        "id": "sj0uYoJHxjBf"
      },
      "source": [
        "Scikit-learn interfaceを使用する"
      ]
    },
    {
      "cell_type": "code",
      "execution_count": null,
      "metadata": {
        "id": "xKA7F4v3xjBg",
        "outputId": "f6bb7f45-38cc-46ab-dcb7-cb5abd9e7336"
      },
      "outputs": [
        {
          "name": "stdout",
          "output_type": "stream",
          "text": [
            "Training until validation scores don't improve for 20 rounds\n",
            "Early stopping, best iteration is:\n",
            "[43]\ttraining's binary_logloss: 0.105826\tvalid_1's binary_logloss: 0.381696\n",
            "score 83.0\n"
          ]
        }
      ],
      "source": [
        "# トレーニングデータをtrainとvalidに分割\n",
        "train_x, valid_x, train_y, valid_y = train_test_split(X, y, test_size=0.20, random_state=0)\n",
        "\n",
        "# LightGBMの分類器をインスタンス化\n",
        "gbm = lgb.LGBMClassifier(objective='binary')  # , importance_type='gain'\n",
        "\n",
        "# trainとvalidを指定し学習\n",
        "gbm.fit(train_x, train_y,\n",
        "        eval_set = [(train_x, train_y), (valid_x, valid_y)],\n",
        "        early_stopping_rounds=20,\n",
        "        verbose=-1)\n",
        "\n",
        "# valid_xについて推論\n",
        "oof = gbm.predict(valid_x, num_iteration=gbm.best_iteration_)\n",
        "print('score', round(accuracy_score(valid_y, oof)*100,2));  # validのscore"
      ]
    },
    {
      "cell_type": "code",
      "execution_count": null,
      "metadata": {
        "id": "0HsoF15jxjBg",
        "outputId": "36945b2c-c9fc-46c1-e39c-9d5eef017554"
      },
      "outputs": [
        {
          "data": {
            "text/plain": [
              "43"
            ]
          },
          "execution_count": 7,
          "metadata": {},
          "output_type": "execute_result"
        }
      ],
      "source": [
        "gbm.best_iteration_"
      ]
    },
    {
      "cell_type": "markdown",
      "metadata": {
        "id": "lDmlWNRTxjBg"
      },
      "source": [
        "パラメータの調整"
      ]
    },
    {
      "cell_type": "code",
      "execution_count": null,
      "metadata": {
        "scrolled": false,
        "id": "TFRofFwLxjBg",
        "outputId": "f684c223-cd39-48a6-83a8-77c9e81f6fc1"
      },
      "outputs": [
        {
          "data": {
            "text/plain": [
              "{'boosting_type': 'gbdt',\n",
              " 'class_weight': None,\n",
              " 'colsample_bytree': 1.0,\n",
              " 'importance_type': 'split',\n",
              " 'learning_rate': 0.1,\n",
              " 'max_depth': -1,\n",
              " 'min_child_samples': 20,\n",
              " 'min_child_weight': 0.001,\n",
              " 'min_split_gain': 0.0,\n",
              " 'n_estimators': 100,\n",
              " 'n_jobs': -1,\n",
              " 'num_leaves': 31,\n",
              " 'objective': 'binary',\n",
              " 'random_state': None,\n",
              " 'reg_alpha': 0.0,\n",
              " 'reg_lambda': 0.0,\n",
              " 'silent': True,\n",
              " 'subsample': 1.0,\n",
              " 'subsample_for_bin': 200000,\n",
              " 'subsample_freq': 0}"
            ]
          },
          "execution_count": 8,
          "metadata": {},
          "output_type": "execute_result"
        }
      ],
      "source": [
        "gbm.get_params()"
      ]
    },
    {
      "cell_type": "code",
      "execution_count": null,
      "metadata": {
        "id": "GmC0jJzPxjBg",
        "outputId": "5f44472e-b8d5-4f68-93cb-89f46450ab79"
      },
      "outputs": [
        {
          "name": "stdout",
          "output_type": "stream",
          "text": [
            "0.8620000000000001\n",
            "{'learning_rate': 0.1, 'max_depth': 7, 'num_leaves': 20, 'reg_alpha': 0, 'reg_lambda': 0}\n"
          ]
        }
      ],
      "source": [
        "# GridSearchCVをimport\n",
        "from sklearn.model_selection import GridSearchCV\n",
        "\n",
        "gbm = lgb.LGBMClassifier(objective='binary')\n",
        "\n",
        "# 試行するパラメータを羅列する\n",
        "#params = {\n",
        "#    'num_leaves': [ 10, 20, 30, 40],\n",
        "#    'reg_alpha': [0, 1, 10, 100],\n",
        "#    'reg_lambda': [0, 1, 10, 100],\n",
        "#}\n",
        "\n",
        "params = {\n",
        "    'max_depth':[2, 3, 4, 5, 6, 7, 8],\n",
        "    'learning_rate':[ 0.01, 0.1, 1],\n",
        "    'num_leaves': [ 10, 20, 30, 40],\n",
        "    'reg_alpha': [0, 1, 10, 100],\n",
        "    'reg_lambda': [0, 1, 10, 100],\n",
        "}\n",
        "\n",
        "grid_search = GridSearchCV(\n",
        "                           gbm,  # 分類器を渡す\n",
        "                           param_grid=params,  # 試行してほしいパラメータを渡す\n",
        "                           cv=5,  # 3分割交差検証でスコアを確認\n",
        "                          )\n",
        "\n",
        "grid_search.fit(X, y)  # データを渡す\n",
        "\n",
        "print(grid_search.best_score_)  # ベストスコアを表示\n",
        "print(grid_search.best_params_)  # ベストスコアのパラメータを表示"
      ]
    },
    {
      "cell_type": "markdown",
      "metadata": {
        "id": "1nHkrMsXxjBh"
      },
      "source": [
        "① KFold {'learning_rate': 0.1, 'max_depth': 7, 'num_leaves': 20, 'reg_alpha': 0, 'reg_lambda': 0}"
      ]
    },
    {
      "cell_type": "code",
      "execution_count": null,
      "metadata": {
        "scrolled": true,
        "id": "xCb1u1quxjBh",
        "outputId": "d71b0f20-cf8a-481f-b647-c815937599d7"
      },
      "outputs": [
        {
          "name": "stdout",
          "output_type": "stream",
          "text": [
            "fold1 start\n",
            "Training until validation scores don't improve for 20 rounds\n",
            "Early stopping, best iteration is:\n",
            "[53]\ttraining's binary_logloss: 0.127639\tvalid_1's binary_logloss: 0.355215\n",
            "gbm.best_iteration_:  53\n",
            "fold1 end\n",
            "\n",
            "fold2 start\n",
            "Training until validation scores don't improve for 20 rounds\n",
            "Early stopping, best iteration is:\n",
            "[31]\ttraining's binary_logloss: 0.200246\tvalid_1's binary_logloss: 0.323377\n",
            "gbm.best_iteration_:  31\n",
            "fold2 end\n",
            "\n",
            "fold3 start\n",
            "Training until validation scores don't improve for 20 rounds\n",
            "Early stopping, best iteration is:\n",
            "[66]\ttraining's binary_logloss: 0.110748\tvalid_1's binary_logloss: 0.296995\n",
            "gbm.best_iteration_:  66\n",
            "fold3 end\n",
            "\n",
            "fold4 start\n",
            "Training until validation scores don't improve for 20 rounds\n",
            "Early stopping, best iteration is:\n",
            "[51]\ttraining's binary_logloss: 0.130775\tvalid_1's binary_logloss: 0.386858\n",
            "gbm.best_iteration_:  51\n",
            "fold4 end\n",
            "\n",
            "fold5 start\n",
            "Training until validation scores don't improve for 20 rounds\n",
            "Early stopping, best iteration is:\n",
            "[43]\ttraining's binary_logloss: 0.162989\tvalid_1's binary_logloss: 0.364369\n",
            "gbm.best_iteration_:  43\n",
            "fold5 end\n",
            "\n",
            "[83.0, 86.0, 88.0, 83.0, 83.5] 平均score 84.7\n",
            "[0.3552148397679514, 0.3233765316063557, 0.29699540115050127, 0.38685783858460143, 0.3643693111695477] 平均logloss 0.3453627844557915\n",
            "[0.8796620046620047, 0.8493303571428571, 0.8814458630409551, 0.8577777777777778, 0.8460937500000001] 平均auc 0.862861950524719\n"
          ]
        }
      ],
      "source": [
        "# 訓練\n",
        "\n",
        "from sklearn.model_selection import KFold\n",
        "\n",
        "kf = KFold(n_splits=5, shuffle=True, random_state=0)\n",
        "\n",
        "# スコアとモデルを格納するリスト\n",
        "score_list = []\n",
        "logloss_list = []\n",
        "auc_list = []\n",
        "models = []\n",
        "\n",
        "test_pred = np.zeros((len(df_test), 10))\n",
        "\n",
        "for fold_, (train_index, valid_index) in enumerate(kf.split(X, y)):\n",
        "    train_x = X[train_index]\n",
        "    valid_x = X[valid_index]\n",
        "    train_y = y[train_index]\n",
        "    valid_y = y[valid_index]\n",
        "\n",
        "    print(f'fold{fold_ + 1} start')\n",
        "\n",
        "    gbm = lgb.LGBMClassifier(objective='binary',\n",
        "                             num_iterations=1000,\n",
        "                             learning_rate= 0.1,\n",
        "                             max_depth= 7 ,\n",
        "                             num_leaves=20,\n",
        "                             reg_alpha=0,\n",
        "                             reg_lambda=0)  # パラメータを指定\n",
        "    gbm.fit(train_x, train_y,\n",
        "            eval_set = [(train_x, train_y), (valid_x, valid_y)],\n",
        "            early_stopping_rounds=20,\n",
        "            verbose= -1)\n",
        "\n",
        "    # テストデータの予測 (クラス1の予測確率(クラス1である確率)を返す)\n",
        "    y_pred_prob = gbm.predict_proba(valid_x, num_iteration=gbm.best_iteration_)\n",
        "    print('gbm.best_iteration_: ', gbm.best_iteration_)\n",
        "\n",
        "    oof = np.where(y_pred_prob[:, 1] > 0.5, 1, 0) # 0.5より大きい場合1 ,そうでない場合0を返す\n",
        "\n",
        "    score_list.append(round(accuracy_score(valid_y, oof)*100,2))\n",
        "    logloss_list.append(log_loss(valid_y,y_pred_prob[:, 1]))  # logloss\n",
        "    auc_list.append(roc_auc_score(valid_y,y_pred_prob[:, 1])) # AUC\n",
        "    models.append(gbm)                                 # 学習が終わったモデルをリストに入れておく\n",
        "\n",
        "    print(f'fold{fold_ + 1} end\\n' )\n",
        "\n",
        "# モデル評価結果\n",
        "print(score_list, '平均score', np.mean(score_list))\n",
        "print(logloss_list, '平均logloss', np.mean(logloss_list))\n",
        "print(auc_list, '平均auc', np.mean(auc_list))"
      ]
    },
    {
      "cell_type": "code",
      "execution_count": null,
      "metadata": {
        "id": "nwGrp4jZxjBh"
      },
      "outputs": [],
      "source": [
        "# 提出\n",
        "# テストデータの予測を格納する、1000行10列のnumpy行列を作成\n",
        "test_pred = np.zeros((len(df_test), 10))\n",
        "\n",
        "for i, gbm in enumerate(models):\n",
        "    test_pred[:, i] = gbm.predict(df_test) # testを予測\n",
        "\n",
        "pred = (np.mean(test_pred, axis=1) > 0.5).astype(int)\n",
        "\n",
        "df_submit = pd.read_csv('sample_submission.csv', header=None, names=['index', 'target'])\n",
        "df_submit['target'] = pred\n",
        "\n",
        "df_submit.to_csv('submit_0410.csv', header=False, index=False )\n",
        "\n",
        "\n",
        "\n",
        "\n",
        "#pred = (np.mean(test_pred, axis=1) > 0.5).astype(int)\n",
        "#sample_submission['Survived'] = pred\n",
        "#sample_submission.to_csv('glid_search.csv', index=False)"
      ]
    },
    {
      "cell_type": "markdown",
      "metadata": {
        "id": "F7dpGZ_FxjBi"
      },
      "source": [
        "②StratifiedKFold"
      ]
    },
    {
      "cell_type": "code",
      "execution_count": null,
      "metadata": {
        "id": "Zo13OTD3xjBi",
        "outputId": "a62687e7-78eb-473a-846c-8c77ce4a0918"
      },
      "outputs": [
        {
          "name": "stdout",
          "output_type": "stream",
          "text": [
            "fold1 start\n",
            "Training until validation scores don't improve for 20 rounds\n",
            "Early stopping, best iteration is:\n",
            "[56]\ttraining's binary_logloss: 0.134537\tvalid_1's binary_logloss: 0.320139\n",
            "gbm.best_iteration_:  56\n",
            "fold1 end\n",
            "\n",
            "fold2 start\n",
            "Training until validation scores don't improve for 20 rounds\n",
            "Early stopping, best iteration is:\n",
            "[41]\ttraining's binary_logloss: 0.160125\tvalid_1's binary_logloss: 0.356771\n",
            "gbm.best_iteration_:  41\n",
            "fold2 end\n",
            "\n",
            "fold3 start\n",
            "Training until validation scores don't improve for 20 rounds\n",
            "Early stopping, best iteration is:\n",
            "[86]\ttraining's binary_logloss: 0.0930371\tvalid_1's binary_logloss: 0.32493\n",
            "gbm.best_iteration_:  86\n",
            "fold3 end\n",
            "\n",
            "fold4 start\n",
            "Training until validation scores don't improve for 20 rounds\n",
            "Early stopping, best iteration is:\n",
            "[52]\ttraining's binary_logloss: 0.141515\tvalid_1's binary_logloss: 0.28678\n",
            "gbm.best_iteration_:  52\n",
            "fold4 end\n",
            "\n",
            "fold5 start\n",
            "Training until validation scores don't improve for 20 rounds\n",
            "Early stopping, best iteration is:\n",
            "[42]\ttraining's binary_logloss: 0.157497\tvalid_1's binary_logloss: 0.353022\n",
            "gbm.best_iteration_:  42\n",
            "fold5 end\n",
            "\n",
            "[88.0, 84.5, 86.0, 89.0, 84.5] 平均score 86.4\n",
            "[0.32013872184650916, 0.35677088406647656, 0.32492975954737674, 0.28678012076925113, 0.35302227988705986] 平均logloss 0.3283283532233347\n",
            "[0.885625, 0.8524999999999999, 0.886875, 0.9028507724159898, 0.8514094601051123] 平均auc 0.8758520465042204\n"
          ]
        }
      ],
      "source": [
        "from sklearn.model_selection import StratifiedKFold\n",
        "Sf = StratifiedKFold(n_splits=5, shuffle=True, random_state=0)\n",
        "\n",
        "\n",
        "# スコアとモデルを格納するリスト\n",
        "score_list = []\n",
        "logloss_list = []\n",
        "auc_list = []\n",
        "models = []\n",
        "\n",
        "test_pred = np.zeros((len(df_test), 10))\n",
        "\n",
        "for fold_, (train_index, valid_index) in enumerate(Sf.split(X, y)):\n",
        "    train_x = X[train_index]\n",
        "    valid_x = X[valid_index]\n",
        "    train_y = y[train_index]\n",
        "    valid_y = y[valid_index]\n",
        "\n",
        "    print(f'fold{fold_ + 1} start')\n",
        "\n",
        "    gbm = lgb.LGBMClassifier(objective='binary',\n",
        "                             num_iterations=1000,\n",
        "                             learning_rate= 0.1,\n",
        "                             max_depth= 7 ,\n",
        "                             num_leaves=20,\n",
        "                             reg_alpha=0,\n",
        "                             reg_lambda=0)  # パラメータを指定\n",
        "\n",
        "    gbm.fit(train_x, train_y,\n",
        "            eval_set = [(train_x, train_y), (valid_x, valid_y)],\n",
        "            early_stopping_rounds=20,\n",
        "            verbose= -1)\n",
        "\n",
        "    # テストデータの予測 (クラス1の予測確率(クラス1である確率)を返す)\n",
        "    y_pred_prob = gbm.predict_proba(valid_x, num_iteration=gbm.best_iteration_)\n",
        "    print('gbm.best_iteration_: ', gbm.best_iteration_)\n",
        "\n",
        "    oof = np.where(y_pred_prob[:, 1] > 0.5, 1, 0) # 0.5より大きい場合1 ,そうでない場合0を返す\n",
        "\n",
        "    score_list.append(round(accuracy_score(valid_y, oof)*100,2))\n",
        "    logloss_list.append(log_loss(valid_y,y_pred_prob[:, 1]))  # logloss\n",
        "    auc_list.append(roc_auc_score(valid_y,y_pred_prob[:, 1])) # AUC\n",
        "    models.append(gbm)                                 # 学習が終わったモデルをリストに入れておく\n",
        "\n",
        "    print(f'fold{fold_ + 1} end\\n' )\n",
        "\n",
        "# モデル評価結果\n",
        "print(score_list, '平均score', np.mean(score_list))\n",
        "print(logloss_list, '平均logloss', np.mean(logloss_list))\n",
        "print(auc_list, '平均auc', np.mean(auc_list))"
      ]
    },
    {
      "cell_type": "code",
      "execution_count": null,
      "metadata": {
        "id": "WQcJ5uoCxjBi"
      },
      "outputs": [],
      "source": [
        "# 提出\n",
        "# テストデータの予測を格納する、1000行10列のnumpy行列を作成\n",
        "test_pred = np.zeros((len(df_test), 5))\n",
        "\n",
        "for i, gbm in enumerate(models):\n",
        "    test_pred[:, i] = gbm.predict(df_test) # testを予測\n",
        "\n",
        "pred = (np.mean(test_pred, axis=1) > 0.5).astype(int)\n",
        "\n",
        "df_submit = pd.read_csv('sample_submission.csv', header=None, names=['index', 'target'])\n",
        "df_submit['target'] = pred\n",
        "\n",
        "df_submit.to_csv('submit_0412_04.csv', header=False, index=False )\n"
      ]
    },
    {
      "cell_type": "code",
      "execution_count": null,
      "metadata": {
        "id": "TsWycLObxjBi"
      },
      "outputs": [],
      "source": []
    }
  ],
  "metadata": {
    "kernelspec": {
      "display_name": "Python 3",
      "language": "python",
      "name": "python3"
    },
    "language_info": {
      "codemirror_mode": {
        "name": "ipython",
        "version": 3
      },
      "file_extension": ".py",
      "mimetype": "text/x-python",
      "name": "python",
      "nbconvert_exporter": "python",
      "pygments_lexer": "ipython3",
      "version": "3.7.6"
    },
    "colab": {
      "provenance": [],
      "include_colab_link": true
    }
  },
  "nbformat": 4,
  "nbformat_minor": 0
}